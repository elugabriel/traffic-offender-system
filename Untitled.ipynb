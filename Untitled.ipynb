{
 "cells": [
  {
   "cell_type": "code",
   "execution_count": 1,
   "id": "ff24ad31",
   "metadata": {},
   "outputs": [],
   "source": [
    "import sqlite3\n",
    "import pandas as pd\n",
    "import numpy as np\n",
    "import matplotlib.pyplot as plt\n",
    "%matplotlib inline"
   ]
  },
  {
   "cell_type": "code",
   "execution_count": 2,
   "id": "012424c0",
   "metadata": {},
   "outputs": [],
   "source": [
    "con = sqlite3.connect(\"offender.db\")\n",
    "df = pd.read_sql_query(\"SELECT * from User\", con)"
   ]
  },
  {
   "cell_type": "code",
   "execution_count": 3,
   "id": "ec0961cd",
   "metadata": {},
   "outputs": [
    {
     "data": {
      "text/html": [
       "<div>\n",
       "<style scoped>\n",
       "    .dataframe tbody tr th:only-of-type {\n",
       "        vertical-align: middle;\n",
       "    }\n",
       "\n",
       "    .dataframe tbody tr th {\n",
       "        vertical-align: top;\n",
       "    }\n",
       "\n",
       "    .dataframe thead th {\n",
       "        text-align: right;\n",
       "    }\n",
       "</style>\n",
       "<table border=\"1\" class=\"dataframe\">\n",
       "  <thead>\n",
       "    <tr style=\"text-align: right;\">\n",
       "      <th></th>\n",
       "      <th>id</th>\n",
       "      <th>ID_number</th>\n",
       "      <th>first_name</th>\n",
       "      <th>last_name</th>\n",
       "      <th>phone</th>\n",
       "      <th>email</th>\n",
       "      <th>image_file</th>\n",
       "      <th>offense_date</th>\n",
       "      <th>gender</th>\n",
       "      <th>offense</th>\n",
       "      <th>plate_number</th>\n",
       "    </tr>\n",
       "  </thead>\n",
       "  <tbody>\n",
       "    <tr>\n",
       "      <th>0</th>\n",
       "      <td>1</td>\n",
       "      <td>250</td>\n",
       "      <td>James</td>\n",
       "      <td>John</td>\n",
       "      <td>08012</td>\n",
       "      <td>james@testmail.com</td>\n",
       "      <td>default.jpg</td>\n",
       "      <td>2021-03-24 10:57:13</td>\n",
       "      <td>Male</td>\n",
       "      <td>violated traffic light</td>\n",
       "      <td>KJA-234-AZ</td>\n",
       "    </tr>\n",
       "    <tr>\n",
       "      <th>1</th>\n",
       "      <td>2</td>\n",
       "      <td>250</td>\n",
       "      <td>James</td>\n",
       "      <td>John</td>\n",
       "      <td>08012</td>\n",
       "      <td>james@test.com</td>\n",
       "      <td>default.jpg</td>\n",
       "      <td>2020-09-02 10:38:08</td>\n",
       "      <td>Male</td>\n",
       "      <td>failure to stop</td>\n",
       "      <td>KJA-234-AZ</td>\n",
       "    </tr>\n",
       "    <tr>\n",
       "      <th>2</th>\n",
       "      <td>3</td>\n",
       "      <td>300</td>\n",
       "      <td>Jack</td>\n",
       "      <td>Darwin</td>\n",
       "      <td>08022</td>\n",
       "      <td>Jack@test.com</td>\n",
       "      <td>default.jpg</td>\n",
       "      <td>2021-12-21 18:08:15</td>\n",
       "      <td>female</td>\n",
       "      <td>bypass traffic</td>\n",
       "      <td>KJA-123-AX</td>\n",
       "    </tr>\n",
       "    <tr>\n",
       "      <th>3</th>\n",
       "      <td>4</td>\n",
       "      <td>1001</td>\n",
       "      <td>SMITH</td>\n",
       "      <td>JOHNSON</td>\n",
       "      <td>08011111221</td>\n",
       "      <td>smith@gmail.com</td>\n",
       "      <td>default.jpg</td>\n",
       "      <td>2020-01-29 19:53:29</td>\n",
       "      <td>Male</td>\n",
       "      <td>Suspecious person</td>\n",
       "      <td>GGE : 123ZY</td>\n",
       "    </tr>\n",
       "    <tr>\n",
       "      <th>4</th>\n",
       "      <td>5</td>\n",
       "      <td>1000</td>\n",
       "      <td>WILLIAMS</td>\n",
       "      <td>BROWN</td>\n",
       "      <td>08037217109</td>\n",
       "      <td>william@yahoo.com</td>\n",
       "      <td>default.jpg</td>\n",
       "      <td>2021-06-23 14:11:24</td>\n",
       "      <td>female</td>\n",
       "      <td>speeding</td>\n",
       "      <td>ADK-124-AC</td>\n",
       "    </tr>\n",
       "  </tbody>\n",
       "</table>\n",
       "</div>"
      ],
      "text/plain": [
       "   id  ID_number first_name last_name        phone               email  \\\n",
       "0   1        250      James      John        08012  james@testmail.com   \n",
       "1   2        250      James      John        08012      james@test.com   \n",
       "2   3        300       Jack    Darwin        08022       Jack@test.com   \n",
       "3   4       1001      SMITH   JOHNSON  08011111221     smith@gmail.com   \n",
       "4   5       1000   WILLIAMS     BROWN  08037217109   william@yahoo.com   \n",
       "\n",
       "    image_file         offense_date  gender                 offense  \\\n",
       "0  default.jpg  2021-03-24 10:57:13    Male  violated traffic light   \n",
       "1  default.jpg  2020-09-02 10:38:08    Male         failure to stop   \n",
       "2  default.jpg  2021-12-21 18:08:15  female          bypass traffic   \n",
       "3  default.jpg  2020-01-29 19:53:29    Male       Suspecious person   \n",
       "4  default.jpg  2021-06-23 14:11:24  female                speeding   \n",
       "\n",
       "  plate_number  \n",
       "0   KJA-234-AZ  \n",
       "1   KJA-234-AZ  \n",
       "2   KJA-123-AX  \n",
       "3  GGE : 123ZY  \n",
       "4   ADK-124-AC  "
      ]
     },
     "execution_count": 3,
     "metadata": {},
     "output_type": "execute_result"
    }
   ],
   "source": [
    "df.head()"
   ]
  },
  {
   "cell_type": "code",
   "execution_count": 4,
   "id": "b8c0eb4a",
   "metadata": {},
   "outputs": [],
   "source": [
    "df['Dates'] = pd.to_datetime(df['offense_date']).dt.date\n",
    "df['Time'] = pd.to_datetime(df['offense_date']).dt.time"
   ]
  },
  {
   "cell_type": "code",
   "execution_count": 5,
   "id": "713f5195",
   "metadata": {},
   "outputs": [
    {
     "data": {
      "text/html": [
       "<div>\n",
       "<style scoped>\n",
       "    .dataframe tbody tr th:only-of-type {\n",
       "        vertical-align: middle;\n",
       "    }\n",
       "\n",
       "    .dataframe tbody tr th {\n",
       "        vertical-align: top;\n",
       "    }\n",
       "\n",
       "    .dataframe thead th {\n",
       "        text-align: right;\n",
       "    }\n",
       "</style>\n",
       "<table border=\"1\" class=\"dataframe\">\n",
       "  <thead>\n",
       "    <tr style=\"text-align: right;\">\n",
       "      <th></th>\n",
       "      <th>id</th>\n",
       "      <th>ID_number</th>\n",
       "      <th>first_name</th>\n",
       "      <th>last_name</th>\n",
       "      <th>phone</th>\n",
       "      <th>email</th>\n",
       "      <th>image_file</th>\n",
       "      <th>offense_date</th>\n",
       "      <th>gender</th>\n",
       "      <th>offense</th>\n",
       "      <th>plate_number</th>\n",
       "      <th>Dates</th>\n",
       "      <th>Time</th>\n",
       "    </tr>\n",
       "  </thead>\n",
       "  <tbody>\n",
       "    <tr>\n",
       "      <th>0</th>\n",
       "      <td>1</td>\n",
       "      <td>250</td>\n",
       "      <td>James</td>\n",
       "      <td>John</td>\n",
       "      <td>08012</td>\n",
       "      <td>james@testmail.com</td>\n",
       "      <td>default.jpg</td>\n",
       "      <td>2021-03-24 10:57:13</td>\n",
       "      <td>Male</td>\n",
       "      <td>violated traffic light</td>\n",
       "      <td>KJA-234-AZ</td>\n",
       "      <td>2021-03-24</td>\n",
       "      <td>10:57:13</td>\n",
       "    </tr>\n",
       "    <tr>\n",
       "      <th>1</th>\n",
       "      <td>2</td>\n",
       "      <td>250</td>\n",
       "      <td>James</td>\n",
       "      <td>John</td>\n",
       "      <td>08012</td>\n",
       "      <td>james@test.com</td>\n",
       "      <td>default.jpg</td>\n",
       "      <td>2020-09-02 10:38:08</td>\n",
       "      <td>Male</td>\n",
       "      <td>failure to stop</td>\n",
       "      <td>KJA-234-AZ</td>\n",
       "      <td>2020-09-02</td>\n",
       "      <td>10:38:08</td>\n",
       "    </tr>\n",
       "    <tr>\n",
       "      <th>2</th>\n",
       "      <td>3</td>\n",
       "      <td>300</td>\n",
       "      <td>Jack</td>\n",
       "      <td>Darwin</td>\n",
       "      <td>08022</td>\n",
       "      <td>Jack@test.com</td>\n",
       "      <td>default.jpg</td>\n",
       "      <td>2021-12-21 18:08:15</td>\n",
       "      <td>female</td>\n",
       "      <td>bypass traffic</td>\n",
       "      <td>KJA-123-AX</td>\n",
       "      <td>2021-12-21</td>\n",
       "      <td>18:08:15</td>\n",
       "    </tr>\n",
       "    <tr>\n",
       "      <th>3</th>\n",
       "      <td>4</td>\n",
       "      <td>1001</td>\n",
       "      <td>SMITH</td>\n",
       "      <td>JOHNSON</td>\n",
       "      <td>08011111221</td>\n",
       "      <td>smith@gmail.com</td>\n",
       "      <td>default.jpg</td>\n",
       "      <td>2020-01-29 19:53:29</td>\n",
       "      <td>Male</td>\n",
       "      <td>Suspecious person</td>\n",
       "      <td>GGE : 123ZY</td>\n",
       "      <td>2020-01-29</td>\n",
       "      <td>19:53:29</td>\n",
       "    </tr>\n",
       "    <tr>\n",
       "      <th>4</th>\n",
       "      <td>5</td>\n",
       "      <td>1000</td>\n",
       "      <td>WILLIAMS</td>\n",
       "      <td>BROWN</td>\n",
       "      <td>08037217109</td>\n",
       "      <td>william@yahoo.com</td>\n",
       "      <td>default.jpg</td>\n",
       "      <td>2021-06-23 14:11:24</td>\n",
       "      <td>female</td>\n",
       "      <td>speeding</td>\n",
       "      <td>ADK-124-AC</td>\n",
       "      <td>2021-06-23</td>\n",
       "      <td>14:11:24</td>\n",
       "    </tr>\n",
       "  </tbody>\n",
       "</table>\n",
       "</div>"
      ],
      "text/plain": [
       "   id  ID_number first_name last_name        phone               email  \\\n",
       "0   1        250      James      John        08012  james@testmail.com   \n",
       "1   2        250      James      John        08012      james@test.com   \n",
       "2   3        300       Jack    Darwin        08022       Jack@test.com   \n",
       "3   4       1001      SMITH   JOHNSON  08011111221     smith@gmail.com   \n",
       "4   5       1000   WILLIAMS     BROWN  08037217109   william@yahoo.com   \n",
       "\n",
       "    image_file         offense_date  gender                 offense  \\\n",
       "0  default.jpg  2021-03-24 10:57:13    Male  violated traffic light   \n",
       "1  default.jpg  2020-09-02 10:38:08    Male         failure to stop   \n",
       "2  default.jpg  2021-12-21 18:08:15  female          bypass traffic   \n",
       "3  default.jpg  2020-01-29 19:53:29    Male       Suspecious person   \n",
       "4  default.jpg  2021-06-23 14:11:24  female                speeding   \n",
       "\n",
       "  plate_number       Dates      Time  \n",
       "0   KJA-234-AZ  2021-03-24  10:57:13  \n",
       "1   KJA-234-AZ  2020-09-02  10:38:08  \n",
       "2   KJA-123-AX  2021-12-21  18:08:15  \n",
       "3  GGE : 123ZY  2020-01-29  19:53:29  \n",
       "4   ADK-124-AC  2021-06-23  14:11:24  "
      ]
     },
     "execution_count": 5,
     "metadata": {},
     "output_type": "execute_result"
    }
   ],
   "source": [
    "df.head()"
   ]
  },
  {
   "cell_type": "code",
   "execution_count": 6,
   "id": "fe175bbd",
   "metadata": {},
   "outputs": [],
   "source": [
    "from datetime import date\n",
    "df['date'] = pd.to_datetime(df['Dates'])\n",
    "L = ['year', 'month', 'day']\n",
    "df = df.join(pd.concat([getattr(df['date'].dt, i).rename(i) for i in L], axis=1))\n"
   ]
  },
  {
   "cell_type": "code",
   "execution_count": 7,
   "id": "d63b0d8e",
   "metadata": {},
   "outputs": [
    {
     "data": {
      "text/html": [
       "<div>\n",
       "<style scoped>\n",
       "    .dataframe tbody tr th:only-of-type {\n",
       "        vertical-align: middle;\n",
       "    }\n",
       "\n",
       "    .dataframe tbody tr th {\n",
       "        vertical-align: top;\n",
       "    }\n",
       "\n",
       "    .dataframe thead th {\n",
       "        text-align: right;\n",
       "    }\n",
       "</style>\n",
       "<table border=\"1\" class=\"dataframe\">\n",
       "  <thead>\n",
       "    <tr style=\"text-align: right;\">\n",
       "      <th></th>\n",
       "      <th>id</th>\n",
       "      <th>ID_number</th>\n",
       "      <th>first_name</th>\n",
       "      <th>last_name</th>\n",
       "      <th>phone</th>\n",
       "      <th>email</th>\n",
       "      <th>image_file</th>\n",
       "      <th>offense_date</th>\n",
       "      <th>gender</th>\n",
       "      <th>offense</th>\n",
       "      <th>plate_number</th>\n",
       "      <th>Dates</th>\n",
       "      <th>Time</th>\n",
       "      <th>date</th>\n",
       "      <th>year</th>\n",
       "      <th>month</th>\n",
       "      <th>day</th>\n",
       "    </tr>\n",
       "  </thead>\n",
       "  <tbody>\n",
       "    <tr>\n",
       "      <th>0</th>\n",
       "      <td>1</td>\n",
       "      <td>250</td>\n",
       "      <td>James</td>\n",
       "      <td>John</td>\n",
       "      <td>08012</td>\n",
       "      <td>james@testmail.com</td>\n",
       "      <td>default.jpg</td>\n",
       "      <td>2021-03-24 10:57:13</td>\n",
       "      <td>Male</td>\n",
       "      <td>violated traffic light</td>\n",
       "      <td>KJA-234-AZ</td>\n",
       "      <td>2021-03-24</td>\n",
       "      <td>10:57:13</td>\n",
       "      <td>2021-03-24</td>\n",
       "      <td>2021</td>\n",
       "      <td>3</td>\n",
       "      <td>24</td>\n",
       "    </tr>\n",
       "    <tr>\n",
       "      <th>1</th>\n",
       "      <td>2</td>\n",
       "      <td>250</td>\n",
       "      <td>James</td>\n",
       "      <td>John</td>\n",
       "      <td>08012</td>\n",
       "      <td>james@test.com</td>\n",
       "      <td>default.jpg</td>\n",
       "      <td>2020-09-02 10:38:08</td>\n",
       "      <td>Male</td>\n",
       "      <td>failure to stop</td>\n",
       "      <td>KJA-234-AZ</td>\n",
       "      <td>2020-09-02</td>\n",
       "      <td>10:38:08</td>\n",
       "      <td>2020-09-02</td>\n",
       "      <td>2020</td>\n",
       "      <td>9</td>\n",
       "      <td>2</td>\n",
       "    </tr>\n",
       "    <tr>\n",
       "      <th>2</th>\n",
       "      <td>3</td>\n",
       "      <td>300</td>\n",
       "      <td>Jack</td>\n",
       "      <td>Darwin</td>\n",
       "      <td>08022</td>\n",
       "      <td>Jack@test.com</td>\n",
       "      <td>default.jpg</td>\n",
       "      <td>2021-12-21 18:08:15</td>\n",
       "      <td>female</td>\n",
       "      <td>bypass traffic</td>\n",
       "      <td>KJA-123-AX</td>\n",
       "      <td>2021-12-21</td>\n",
       "      <td>18:08:15</td>\n",
       "      <td>2021-12-21</td>\n",
       "      <td>2021</td>\n",
       "      <td>12</td>\n",
       "      <td>21</td>\n",
       "    </tr>\n",
       "    <tr>\n",
       "      <th>3</th>\n",
       "      <td>4</td>\n",
       "      <td>1001</td>\n",
       "      <td>SMITH</td>\n",
       "      <td>JOHNSON</td>\n",
       "      <td>08011111221</td>\n",
       "      <td>smith@gmail.com</td>\n",
       "      <td>default.jpg</td>\n",
       "      <td>2020-01-29 19:53:29</td>\n",
       "      <td>Male</td>\n",
       "      <td>Suspecious person</td>\n",
       "      <td>GGE : 123ZY</td>\n",
       "      <td>2020-01-29</td>\n",
       "      <td>19:53:29</td>\n",
       "      <td>2020-01-29</td>\n",
       "      <td>2020</td>\n",
       "      <td>1</td>\n",
       "      <td>29</td>\n",
       "    </tr>\n",
       "    <tr>\n",
       "      <th>4</th>\n",
       "      <td>5</td>\n",
       "      <td>1000</td>\n",
       "      <td>WILLIAMS</td>\n",
       "      <td>BROWN</td>\n",
       "      <td>08037217109</td>\n",
       "      <td>william@yahoo.com</td>\n",
       "      <td>default.jpg</td>\n",
       "      <td>2021-06-23 14:11:24</td>\n",
       "      <td>female</td>\n",
       "      <td>speeding</td>\n",
       "      <td>ADK-124-AC</td>\n",
       "      <td>2021-06-23</td>\n",
       "      <td>14:11:24</td>\n",
       "      <td>2021-06-23</td>\n",
       "      <td>2021</td>\n",
       "      <td>6</td>\n",
       "      <td>23</td>\n",
       "    </tr>\n",
       "  </tbody>\n",
       "</table>\n",
       "</div>"
      ],
      "text/plain": [
       "   id  ID_number first_name last_name        phone               email  \\\n",
       "0   1        250      James      John        08012  james@testmail.com   \n",
       "1   2        250      James      John        08012      james@test.com   \n",
       "2   3        300       Jack    Darwin        08022       Jack@test.com   \n",
       "3   4       1001      SMITH   JOHNSON  08011111221     smith@gmail.com   \n",
       "4   5       1000   WILLIAMS     BROWN  08037217109   william@yahoo.com   \n",
       "\n",
       "    image_file         offense_date  gender                 offense  \\\n",
       "0  default.jpg  2021-03-24 10:57:13    Male  violated traffic light   \n",
       "1  default.jpg  2020-09-02 10:38:08    Male         failure to stop   \n",
       "2  default.jpg  2021-12-21 18:08:15  female          bypass traffic   \n",
       "3  default.jpg  2020-01-29 19:53:29    Male       Suspecious person   \n",
       "4  default.jpg  2021-06-23 14:11:24  female                speeding   \n",
       "\n",
       "  plate_number       Dates      Time       date  year  month  day  \n",
       "0   KJA-234-AZ  2021-03-24  10:57:13 2021-03-24  2021      3   24  \n",
       "1   KJA-234-AZ  2020-09-02  10:38:08 2020-09-02  2020      9    2  \n",
       "2   KJA-123-AX  2021-12-21  18:08:15 2021-12-21  2021     12   21  \n",
       "3  GGE : 123ZY  2020-01-29  19:53:29 2020-01-29  2020      1   29  \n",
       "4   ADK-124-AC  2021-06-23  14:11:24 2021-06-23  2021      6   23  "
      ]
     },
     "execution_count": 7,
     "metadata": {},
     "output_type": "execute_result"
    }
   ],
   "source": [
    "df.head()"
   ]
  },
  {
   "cell_type": "code",
   "execution_count": 8,
   "id": "10f34343",
   "metadata": {},
   "outputs": [],
   "source": [
    "df['number_booked'] = np.random.randint(18, 45, size=len(df))"
   ]
  },
  {
   "cell_type": "code",
   "execution_count": 9,
   "id": "c214594d",
   "metadata": {},
   "outputs": [],
   "source": [
    "df = df.sort_values('month')"
   ]
  },
  {
   "cell_type": "code",
   "execution_count": 10,
   "id": "fb91b215",
   "metadata": {},
   "outputs": [
    {
     "data": {
      "text/html": [
       "<div>\n",
       "<style scoped>\n",
       "    .dataframe tbody tr th:only-of-type {\n",
       "        vertical-align: middle;\n",
       "    }\n",
       "\n",
       "    .dataframe tbody tr th {\n",
       "        vertical-align: top;\n",
       "    }\n",
       "\n",
       "    .dataframe thead th {\n",
       "        text-align: right;\n",
       "    }\n",
       "</style>\n",
       "<table border=\"1\" class=\"dataframe\">\n",
       "  <thead>\n",
       "    <tr style=\"text-align: right;\">\n",
       "      <th></th>\n",
       "      <th>id</th>\n",
       "      <th>ID_number</th>\n",
       "      <th>first_name</th>\n",
       "      <th>last_name</th>\n",
       "      <th>phone</th>\n",
       "      <th>email</th>\n",
       "      <th>image_file</th>\n",
       "      <th>offense_date</th>\n",
       "      <th>gender</th>\n",
       "      <th>offense</th>\n",
       "      <th>plate_number</th>\n",
       "      <th>Dates</th>\n",
       "      <th>Time</th>\n",
       "      <th>date</th>\n",
       "      <th>year</th>\n",
       "      <th>month</th>\n",
       "      <th>day</th>\n",
       "      <th>number_booked</th>\n",
       "    </tr>\n",
       "  </thead>\n",
       "  <tbody>\n",
       "    <tr>\n",
       "      <th>18</th>\n",
       "      <td>20</td>\n",
       "      <td>1015</td>\n",
       "      <td>Vayomide</td>\n",
       "      <td>Olutola</td>\n",
       "      <td>0802 420 9163</td>\n",
       "      <td>vayomide@onohinosen.ng</td>\n",
       "      <td>default.jpg</td>\n",
       "      <td>2022-01-14 22:35:09</td>\n",
       "      <td>female</td>\n",
       "      <td>bypass traffic</td>\n",
       "      <td>MH531-AA</td>\n",
       "      <td>2022-01-14</td>\n",
       "      <td>22:35:09</td>\n",
       "      <td>2022-01-14</td>\n",
       "      <td>2022</td>\n",
       "      <td>1</td>\n",
       "      <td>14</td>\n",
       "      <td>29</td>\n",
       "    </tr>\n",
       "    <tr>\n",
       "      <th>72</th>\n",
       "      <td>74</td>\n",
       "      <td>1045</td>\n",
       "      <td>Adaugo</td>\n",
       "      <td>Miracle</td>\n",
       "      <td>+2349032488381</td>\n",
       "      <td>nnamdi.makuachukwu@adewunmi.ng</td>\n",
       "      <td>default.jpg</td>\n",
       "      <td>2020-01-18 10:04:05</td>\n",
       "      <td>Male</td>\n",
       "      <td>bypass traffic</td>\n",
       "      <td>MUS-794-FG</td>\n",
       "      <td>2020-01-18</td>\n",
       "      <td>10:04:05</td>\n",
       "      <td>2020-01-18</td>\n",
       "      <td>2020</td>\n",
       "      <td>1</td>\n",
       "      <td>18</td>\n",
       "      <td>29</td>\n",
       "    </tr>\n",
       "    <tr>\n",
       "      <th>89</th>\n",
       "      <td>91</td>\n",
       "      <td>1026</td>\n",
       "      <td>Akunna</td>\n",
       "      <td>Hanifat</td>\n",
       "      <td>+2348135834922</td>\n",
       "      <td>damilola16@gmail.com</td>\n",
       "      <td>default.jpg</td>\n",
       "      <td>2021-01-07 16:48:26</td>\n",
       "      <td>female</td>\n",
       "      <td>speeding</td>\n",
       "      <td>EGA-223-AB</td>\n",
       "      <td>2021-01-07</td>\n",
       "      <td>16:48:26</td>\n",
       "      <td>2021-01-07</td>\n",
       "      <td>2021</td>\n",
       "      <td>1</td>\n",
       "      <td>7</td>\n",
       "      <td>37</td>\n",
       "    </tr>\n",
       "    <tr>\n",
       "      <th>3</th>\n",
       "      <td>4</td>\n",
       "      <td>1001</td>\n",
       "      <td>SMITH</td>\n",
       "      <td>JOHNSON</td>\n",
       "      <td>08011111221</td>\n",
       "      <td>smith@gmail.com</td>\n",
       "      <td>default.jpg</td>\n",
       "      <td>2020-01-29 19:53:29</td>\n",
       "      <td>Male</td>\n",
       "      <td>Suspecious person</td>\n",
       "      <td>GGE : 123ZY</td>\n",
       "      <td>2020-01-29</td>\n",
       "      <td>19:53:29</td>\n",
       "      <td>2020-01-29</td>\n",
       "      <td>2020</td>\n",
       "      <td>1</td>\n",
       "      <td>29</td>\n",
       "      <td>40</td>\n",
       "    </tr>\n",
       "    <tr>\n",
       "      <th>37</th>\n",
       "      <td>39</td>\n",
       "      <td>1011</td>\n",
       "      <td>BASHAM</td>\n",
       "      <td>RANEY</td>\n",
       "      <td>08039624941</td>\n",
       "      <td>BASHAM@gmail.com</td>\n",
       "      <td>default.jpg</td>\n",
       "      <td>2021-01-22 22:25:23</td>\n",
       "      <td>Male</td>\n",
       "      <td>failure to stop</td>\n",
       "      <td>AA79-AA</td>\n",
       "      <td>2021-01-22</td>\n",
       "      <td>22:25:23</td>\n",
       "      <td>2021-01-22</td>\n",
       "      <td>2021</td>\n",
       "      <td>1</td>\n",
       "      <td>22</td>\n",
       "      <td>40</td>\n",
       "    </tr>\n",
       "  </tbody>\n",
       "</table>\n",
       "</div>"
      ],
      "text/plain": [
       "    id  ID_number first_name last_name           phone  \\\n",
       "18  20       1015   Vayomide   Olutola   0802 420 9163   \n",
       "72  74       1045     Adaugo   Miracle  +2349032488381   \n",
       "89  91       1026     Akunna   Hanifat  +2348135834922   \n",
       "3    4       1001      SMITH   JOHNSON     08011111221   \n",
       "37  39       1011     BASHAM     RANEY     08039624941   \n",
       "\n",
       "                             email   image_file         offense_date  gender  \\\n",
       "18          vayomide@onohinosen.ng  default.jpg  2022-01-14 22:35:09  female   \n",
       "72  nnamdi.makuachukwu@adewunmi.ng  default.jpg  2020-01-18 10:04:05    Male   \n",
       "89            damilola16@gmail.com  default.jpg  2021-01-07 16:48:26  female   \n",
       "3                  smith@gmail.com  default.jpg  2020-01-29 19:53:29    Male   \n",
       "37                BASHAM@gmail.com  default.jpg  2021-01-22 22:25:23    Male   \n",
       "\n",
       "              offense plate_number       Dates      Time       date  year  \\\n",
       "18     bypass traffic     MH531-AA  2022-01-14  22:35:09 2022-01-14  2022   \n",
       "72     bypass traffic   MUS-794-FG  2020-01-18  10:04:05 2020-01-18  2020   \n",
       "89           speeding   EGA-223-AB  2021-01-07  16:48:26 2021-01-07  2021   \n",
       "3   Suspecious person  GGE : 123ZY  2020-01-29  19:53:29 2020-01-29  2020   \n",
       "37    failure to stop      AA79-AA  2021-01-22  22:25:23 2021-01-22  2021   \n",
       "\n",
       "    month  day  number_booked  \n",
       "18      1   14             29  \n",
       "72      1   18             29  \n",
       "89      1    7             37  \n",
       "3       1   29             40  \n",
       "37      1   22             40  "
      ]
     },
     "execution_count": 10,
     "metadata": {},
     "output_type": "execute_result"
    }
   ],
   "source": [
    "df.head()"
   ]
  },
  {
   "cell_type": "code",
   "execution_count": 11,
   "id": "cf4081a1",
   "metadata": {},
   "outputs": [
    {
     "data": {
      "text/plain": [
       "array([29, 37, 40, 26, 19, 41, 43, 34, 23, 39, 22, 42, 31, 32, 44, 27, 18,\n",
       "       36, 21, 25, 24, 38, 20, 28, 35, 33])"
      ]
     },
     "execution_count": 11,
     "metadata": {},
     "output_type": "execute_result"
    }
   ],
   "source": [
    "df[\"number_booked\"].unique()"
   ]
  },
  {
   "cell_type": "code",
   "execution_count": 12,
   "id": "437678b1",
   "metadata": {},
   "outputs": [],
   "source": [
    "df['month'] = df['month'].map({1: 'JAN', 2: 'FEB', 3: 'MAR', 4: 'APR', 5: 'MAY', 6: 'JUN', 7: 'JUL', \n",
    "                               8: 'AUG', 9: 'SEP', 10: 'OCT', 11: 'NOV', 12: 'DEC'})"
   ]
  },
  {
   "cell_type": "code",
   "execution_count": 13,
   "id": "b9dd0074",
   "metadata": {},
   "outputs": [
    {
     "data": {
      "text/plain": [
       "Text(0.5, 1.0, 'Offense bar chart!')"
      ]
     },
     "execution_count": 13,
     "metadata": {},
     "output_type": "execute_result"
    },
    {
     "data": {
      "image/png": "[encoded data removed]",
      "text/plain": [
       "<Figure size 720x360 with 1 Axes>"
      ]
     },
     "metadata": {
      "needs_background": "light"
     },
     "output_type": "display_data"
    }
   ],
   "source": [
    "x = df[\"number_booked\"]\n",
    "y = df[\"month\"]\n",
    "fig = plt.figure(figsize=(10, 5))\n",
    "\n",
    "plt.bar(y, x)\n",
    "plt.ylabel('Number of offenses booked')\n",
    "# naming the x-axis\n",
    "plt.xlabel('Month')\n",
    "plt.xticks(rotation=45, ha='right')\n",
    "plt.title('Offense bar chart!')"
   ]
  },
  {
   "cell_type": "code",
   "execution_count": 14,
   "id": "2fa0800e",
   "metadata": {},
   "outputs": [
    {
     "data": {
      "text/plain": [
       "Text(0.5, 1.0, 'Offense bar chart!')"
      ]
     },
     "execution_count": 14,
     "metadata": {},
     "output_type": "execute_result"
    },
    {
     "data": {
      "image/png": "[encoded data removed]",
      "text/plain": [
       "<Figure size 720x360 with 1 Axes>"
      ]
     },
     "metadata": {
      "needs_background": "light"
     },
     "output_type": "display_data"
    }
   ],
   "source": [
    "x = df[\"number_booked\"]\n",
    "y = df[\"ID_number\"]\n",
    "fig = plt.figure(figsize=(10, 5))\n",
    "\n",
    "plt.bar(y, x)\n",
    "plt.ylabel('Number of offenses booked')\n",
    "# naming the x-axis\n",
    "plt.xlabel('Month')\n",
    "plt.xticks(rotation=45, ha='right')\n",
    "plt.title('Offense bar chart!')"
   ]
  },
  {
   "cell_type": "code",
   "execution_count": 15,
   "id": "8e083b84",
   "metadata": {},
   "outputs": [],
   "source": [
    "top_month = df.month.value_counts()"
   ]
  },
  {
   "cell_type": "code",
   "execution_count": 16,
   "id": "ab95eff9",
   "metadata": {},
   "outputs": [
    {
     "data": {
      "text/plain": [
       "APR    14\n",
       "JAN    12\n",
       "FEB    12\n",
       "JUN    11\n",
       "MAR    10\n",
       "JUL    10\n",
       "AUG     7\n",
       "SEP     6\n",
       "OCT     6\n",
       "DEC     6\n",
       "MAY     4\n",
       "NOV     3\n",
       "Name: month, dtype: int64"
      ]
     },
     "execution_count": 16,
     "metadata": {},
     "output_type": "execute_result"
    }
   ],
   "source": [
    "top_month"
   ]
  },
  {
   "cell_type": "code",
   "execution_count": 19,
   "id": "f9eed8a6",
   "metadata": {},
   "outputs": [
    {
     "data": {
      "text/plain": [
       "<AxesSubplot:title={'center':'schema.Country'}, ylabel='month'>"
      ]
     },
     "execution_count": 19,
     "metadata": {},
     "output_type": "execute_result"
    },
    {
     "data": {
      "image/png": "[encoded data removed]",
      "text/plain": [
       "<Figure size 864x432 with 1 Axes>"
      ]
     },
     "metadata": {
      "needs_background": "light"
     },
     "output_type": "display_data"
    }
   ],
   "source": [
    "import seaborn as sns\n",
    "plt.figure(figsize=(12,6))\n",
    "plt.xticks(rotation=75)\n",
    "plt.title('schema.Country')\n",
    "sns.barplot(x=top_month.index, y=top_month)"
   ]
  },
  {
   "cell_type": "code",
   "execution_count": 20,
   "id": "77a85404",
   "metadata": {},
   "outputs": [],
   "source": [
    "top_year = df.year.value_counts()"
   ]
  },
  {
   "cell_type": "code",
   "execution_count": 26,
   "id": "6d7932ad",
   "metadata": {},
   "outputs": [
    {
     "data": {
      "text/plain": [
       "<AxesSubplot:title={'center':'schema.Country'}, ylabel='year'>"
      ]
     },
     "execution_count": 26,
     "metadata": {},
     "output_type": "execute_result"
    },
    {
     "data": {
      "image/png": "[encoded data removed]",
      "text/plain": [
       "<Figure size 288x504 with 1 Axes>"
      ]
     },
     "metadata": {
      "needs_background": "light"
     },
     "output_type": "display_data"
    }
   ],
   "source": [
    "plt.figure(figsize=(4,7))\n",
    "plt.xticks(rotation=75)\n",
    "plt.title('schema.Country')\n",
    "sns.barplot(x=top_year.index, y=top_year)"
   ]
  },
  {
   "cell_type": "code",
   "execution_count": null,
   "id": "eaead07e",
   "metadata": {},
   "outputs": [],
   "source": []
  }
 ],
 "metadata": {
  "kernelspec": {
   "display_name": "Python 3 (ipykernel)",
   "language": "python",
   "name": "python3"
  },
  "language_info": {
   "codemirror_mode": {
    "name": "ipython",
    "version": 3
   },
   "file_extension": ".py",
   "mimetype": "text/x-python",
   "name": "python",
   "nbconvert_exporter": "python",
   "pygments_lexer": "ipython3",
   "version": "3.9.12"
  }
 },
 "nbformat": 4,
 "nbformat_minor": 5
}
